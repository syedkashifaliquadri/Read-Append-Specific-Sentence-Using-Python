{
 "cells": [
  {
   "cell_type": "code",
   "execution_count": 12,
   "metadata": {},
   "outputs": [],
   "source": [
    "with open(r\"C:\\Users\\EliteBook\\Desktop\\Burger App Using React\\project\\public\\index.html\",\"r\") as webpage:\n",
    "    with open('output.txt','a') as wf:\n",
    "        for line in webpage.readlines():\n",
    "            if '<a href=' in line:\n",
    "                txt = line.find('<a href=')\n",
    "                f_quote = line.find('\"',txt)\n",
    "                s_quote = line.find('\"', f_quote+1)\n",
    "                url = line[f_quote+1 : s_quote]\n",
    "                wf.write(url + \"\\n\")"
   ]
  },
  {
   "cell_type": "code",
   "execution_count": null,
   "metadata": {},
   "outputs": [],
   "source": []
  }
 ],
 "metadata": {
  "kernelspec": {
   "display_name": "Python 3",
   "language": "python",
   "name": "python3"
  },
  "language_info": {
   "codemirror_mode": {
    "name": "ipython",
    "version": 3
   },
   "file_extension": ".py",
   "mimetype": "text/x-python",
   "name": "python",
   "nbconvert_exporter": "python",
   "pygments_lexer": "ipython3",
   "version": "3.7.3"
  }
 },
 "nbformat": 4,
 "nbformat_minor": 2
}
